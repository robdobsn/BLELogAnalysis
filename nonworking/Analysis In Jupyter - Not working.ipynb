{
 "cells": [
  {
   "cell_type": "code",
   "execution_count": 132,
   "metadata": {},
   "outputs": [],
   "source": [
    "import pyshark\n",
    "import logging\n",
    "import os\n",
    "import asyncio\n",
    "\n",
    "logging.basicConfig(level=logging.DEBUG)"
   ]
  },
  {
   "cell_type": "code",
   "execution_count": 133,
   "metadata": {},
   "outputs": [],
   "source": [
    "periph_mac_addr = \"b8:d6:1a:bc:6e:96\"\n",
    "capture_path = R\"C:\\Users\\rob\\Downloads\\blesniffs\\202307BLETestLogs\""
   ]
  },
  {
   "cell_type": "code",
   "execution_count": 134,
   "metadata": {},
   "outputs": [],
   "source": [
    "def analyze_pkt(pkt):\n",
    "    print(pkt)"
   ]
  },
  {
   "cell_type": "code",
   "execution_count": 135,
   "metadata": {},
   "outputs": [],
   "source": [
    "async def process_file(cap_file, mac_addr):\n",
    "    with pyshark.FileCapture(cap_file, display_filter=f\"btle.advertising_address == {mac_addr}\") as filtered_cap:\n",
    "        # for pkt in filtered_cap:\n",
    "        #     await analyze_pkt(pkt)\n",
    "        #     # print(pkt)\n",
    "        await filtered_cap.apply_on_packets(analyze_pkt)\n",
    "        \n"
   ]
  },
  {
   "cell_type": "code",
   "execution_count": 136,
   "metadata": {},
   "outputs": [],
   "source": [
    "async def main(cap_path, periph_mac):\n",
    "    # Check if path is a folder or file\n",
    "    # If folder, process all files in folder\n",
    "    # If file, process file\n",
    "    if os.path.isdir(cap_path):\n",
    "        for file in os.listdir(cap_path):\n",
    "            if file.endswith(\".pcapng\"):\n",
    "                await process_file(os.path.join(cap_path, file), periph_mac)\n",
    "    elif os.path.isfile(cap_path):\n",
    "        await process_file(cap_path, periph_mac)\n"
   ]
  },
  {
   "cell_type": "code",
   "execution_count": 137,
   "metadata": {},
   "outputs": [],
   "source": [
    "def tshark_callback(packet):\n",
    "    packet.pretty_print()"
   ]
  },
  {
   "cell_type": "code",
   "execution_count": null,
   "metadata": {},
   "outputs": [],
   "source": []
  },
  {
   "cell_type": "code",
   "execution_count": 138,
   "metadata": {},
   "outputs": [],
   "source": [
    "async def analyze():\n",
    "    # main(capture_path, periph_mac_addr)\n",
    "    cap = pyshark.FileCapture(R\"C:\\Users\\rob\\Downloads\\blesniffs\\202307BLETestLogs\\AsusC223N WebApp Rev5 v1.2,46 + 2nd Attempt 2.pcapng\")\n",
    "    # for pkt in cap:\n",
    "    #     print(pkt)\n",
    "    await cap.packets_from_tshark(tshark_callback)\n"
   ]
  },
  {
   "cell_type": "code",
   "execution_count": 139,
   "metadata": {},
   "outputs": [
    {
     "ename": "NotImplementedError",
     "evalue": "",
     "output_type": "error",
     "traceback": [
      "\u001b[1;31m---------------------------------------------------------------------------\u001b[0m",
      "\u001b[1;31mNotImplementedError\u001b[0m                       Traceback (most recent call last)",
      "\u001b[1;32mUntitled-1.ipynb Cell 9\u001b[0m line \u001b[0;36m3\n\u001b[0;32m      <a href='vscode-notebook-cell:Untitled-1.ipynb?jupyter-notebook#X11sdW50aXRsZWQ%3D?line=0'>1</a>\u001b[0m \u001b[39m# asyncio.run(analyze())\u001b[39;00m\n\u001b[0;32m      <a href='vscode-notebook-cell:Untitled-1.ipynb?jupyter-notebook#X11sdW50aXRsZWQ%3D?line=1'>2</a>\u001b[0m \u001b[39m# analyze()\u001b[39;00m\n\u001b[1;32m----> <a href='vscode-notebook-cell:Untitled-1.ipynb?jupyter-notebook#X11sdW50aXRsZWQ%3D?line=2'>3</a>\u001b[0m \u001b[39mawait\u001b[39;00m analyze()\n",
      "\u001b[1;32mUntitled-1.ipynb Cell 9\u001b[0m line \u001b[0;36m6\n\u001b[0;32m      <a href='vscode-notebook-cell:Untitled-1.ipynb?jupyter-notebook#X11sdW50aXRsZWQ%3D?line=2'>3</a>\u001b[0m cap \u001b[39m=\u001b[39m pyshark\u001b[39m.\u001b[39mFileCapture(\u001b[39mR\u001b[39m\u001b[39m\"\u001b[39m\u001b[39mC:\u001b[39m\u001b[39m\\\u001b[39m\u001b[39mUsers\u001b[39m\u001b[39m\\\u001b[39m\u001b[39mrob\u001b[39m\u001b[39m\\\u001b[39m\u001b[39mDownloads\u001b[39m\u001b[39m\\\u001b[39m\u001b[39mblesniffs\u001b[39m\u001b[39m\\\u001b[39m\u001b[39m202307BLETestLogs\u001b[39m\u001b[39m\\\u001b[39m\u001b[39mAsusC223N WebApp Rev5 v1.2,46 + 2nd Attempt 2.pcapng\u001b[39m\u001b[39m\"\u001b[39m)\n\u001b[0;32m      <a href='vscode-notebook-cell:Untitled-1.ipynb?jupyter-notebook#X11sdW50aXRsZWQ%3D?line=3'>4</a>\u001b[0m \u001b[39m# for pkt in cap:\u001b[39;00m\n\u001b[0;32m      <a href='vscode-notebook-cell:Untitled-1.ipynb?jupyter-notebook#X11sdW50aXRsZWQ%3D?line=4'>5</a>\u001b[0m \u001b[39m#     print(pkt)\u001b[39;00m\n\u001b[1;32m----> <a href='vscode-notebook-cell:Untitled-1.ipynb?jupyter-notebook#X11sdW50aXRsZWQ%3D?line=5'>6</a>\u001b[0m \u001b[39mawait\u001b[39;00m cap\u001b[39m.\u001b[39mpackets_from_tshark(tshark_callback)\n",
      "File \u001b[1;32mc:\\Users\\rob\\Documents\\rdev\\BLELogAnalysis\\.venv\\Lib\\site-packages\\pyshark\\capture\\capture.py:265\u001b[0m, in \u001b[0;36mCapture.packets_from_tshark\u001b[1;34m(self, packet_callback, packet_count, close_tshark)\u001b[0m\n\u001b[0;32m    258\u001b[0m \u001b[39masync\u001b[39;00m \u001b[39mdef\u001b[39;00m \u001b[39mpackets_from_tshark\u001b[39m(\u001b[39mself\u001b[39m, packet_callback, packet_count\u001b[39m=\u001b[39m\u001b[39mNone\u001b[39;00m, close_tshark\u001b[39m=\u001b[39m\u001b[39mTrue\u001b[39;00m):\n\u001b[0;32m    259\u001b[0m \u001b[39m    \u001b[39m\u001b[39m\"\"\"\u001b[39;00m\n\u001b[0;32m    260\u001b[0m \u001b[39m    A coroutine which creates a tshark process, runs the given callback on each packet that is received from it and\u001b[39;00m\n\u001b[0;32m    261\u001b[0m \u001b[39m    closes the process when it is done.\u001b[39;00m\n\u001b[0;32m    262\u001b[0m \n\u001b[0;32m    263\u001b[0m \u001b[39m    Do not use interactively. Can be used in order to insert packets into your own eventloop.\u001b[39;00m\n\u001b[0;32m    264\u001b[0m \u001b[39m    \"\"\"\u001b[39;00m\n\u001b[1;32m--> 265\u001b[0m     tshark_process \u001b[39m=\u001b[39m \u001b[39mawait\u001b[39;00m \u001b[39mself\u001b[39m\u001b[39m.\u001b[39m_get_tshark_process(packet_count\u001b[39m=\u001b[39mpacket_count)\n\u001b[0;32m    266\u001b[0m     \u001b[39mtry\u001b[39;00m:\n\u001b[0;32m    267\u001b[0m         \u001b[39mawait\u001b[39;00m \u001b[39mself\u001b[39m\u001b[39m.\u001b[39m_go_through_packets_from_fd(tshark_process\u001b[39m.\u001b[39mstdout, packet_callback, packet_count\u001b[39m=\u001b[39mpacket_count)\n",
      "File \u001b[1;32mc:\\Users\\rob\\Documents\\rdev\\BLELogAnalysis\\.venv\\Lib\\site-packages\\pyshark\\capture\\capture.py:346\u001b[0m, in \u001b[0;36mCapture._get_tshark_process\u001b[1;34m(self, packet_count, stdin)\u001b[0m\n\u001b[0;32m    343\u001b[0m \u001b[39mself\u001b[39m\u001b[39m.\u001b[39m_log\u001b[39m.\u001b[39mdebug(\n\u001b[0;32m    344\u001b[0m     \u001b[39m\"\u001b[39m\u001b[39mCreating TShark subprocess with parameters: \u001b[39m\u001b[39m\"\u001b[39m \u001b[39m+\u001b[39m \u001b[39m\"\u001b[39m\u001b[39m \u001b[39m\u001b[39m\"\u001b[39m\u001b[39m.\u001b[39mjoin(parameters))\n\u001b[0;32m    345\u001b[0m \u001b[39mself\u001b[39m\u001b[39m.\u001b[39m_log\u001b[39m.\u001b[39mdebug(\u001b[39m\"\u001b[39m\u001b[39mExecutable: \u001b[39m\u001b[39m%s\u001b[39;00m\u001b[39m\"\u001b[39m, parameters[\u001b[39m0\u001b[39m])\n\u001b[1;32m--> 346\u001b[0m tshark_process \u001b[39m=\u001b[39m \u001b[39mawait\u001b[39;00m asyncio\u001b[39m.\u001b[39mcreate_subprocess_exec(\u001b[39m*\u001b[39mparameters,\n\u001b[0;32m    347\u001b[0m                                                       stdout\u001b[39m=\u001b[39msubprocess\u001b[39m.\u001b[39mPIPE,\n\u001b[0;32m    348\u001b[0m                                                       stderr\u001b[39m=\u001b[39msubprocess\u001b[39m.\u001b[39mPIPE,\n\u001b[0;32m    349\u001b[0m                                                       stdin\u001b[39m=\u001b[39mstdin)\n\u001b[0;32m    350\u001b[0m \u001b[39mself\u001b[39m\u001b[39m.\u001b[39m_create_stderr_handling_task(tshark_process\u001b[39m.\u001b[39mstderr)\n\u001b[0;32m    351\u001b[0m \u001b[39mself\u001b[39m\u001b[39m.\u001b[39m_created_new_process(parameters, tshark_process)\n",
      "File \u001b[1;32mC:\\Python311\\Lib\\asyncio\\subprocess.py:218\u001b[0m, in \u001b[0;36mcreate_subprocess_exec\u001b[1;34m(program, stdin, stdout, stderr, limit, *args, **kwds)\u001b[0m\n\u001b[0;32m    215\u001b[0m loop \u001b[39m=\u001b[39m events\u001b[39m.\u001b[39mget_running_loop()\n\u001b[0;32m    216\u001b[0m protocol_factory \u001b[39m=\u001b[39m \u001b[39mlambda\u001b[39;00m: SubprocessStreamProtocol(limit\u001b[39m=\u001b[39mlimit,\n\u001b[0;32m    217\u001b[0m                                                     loop\u001b[39m=\u001b[39mloop)\n\u001b[1;32m--> 218\u001b[0m transport, protocol \u001b[39m=\u001b[39m \u001b[39mawait\u001b[39;00m loop\u001b[39m.\u001b[39msubprocess_exec(\n\u001b[0;32m    219\u001b[0m     protocol_factory,\n\u001b[0;32m    220\u001b[0m     program, \u001b[39m*\u001b[39margs,\n\u001b[0;32m    221\u001b[0m     stdin\u001b[39m=\u001b[39mstdin, stdout\u001b[39m=\u001b[39mstdout,\n\u001b[0;32m    222\u001b[0m     stderr\u001b[39m=\u001b[39mstderr, \u001b[39m*\u001b[39m\u001b[39m*\u001b[39mkwds)\n\u001b[0;32m    223\u001b[0m \u001b[39mreturn\u001b[39;00m Process(transport, protocol, loop)\n",
      "File \u001b[1;32mC:\\Python311\\Lib\\asyncio\\base_events.py:1680\u001b[0m, in \u001b[0;36mBaseEventLoop.subprocess_exec\u001b[1;34m(self, protocol_factory, program, stdin, stdout, stderr, universal_newlines, shell, bufsize, encoding, errors, text, *args, **kwargs)\u001b[0m\n\u001b[0;32m   1678\u001b[0m     debug_log \u001b[39m=\u001b[39m \u001b[39mf\u001b[39m\u001b[39m'\u001b[39m\u001b[39mexecute program \u001b[39m\u001b[39m{\u001b[39;00mprogram\u001b[39m!r}\u001b[39;00m\u001b[39m'\u001b[39m\n\u001b[0;32m   1679\u001b[0m     \u001b[39mself\u001b[39m\u001b[39m.\u001b[39m_log_subprocess(debug_log, stdin, stdout, stderr)\n\u001b[1;32m-> 1680\u001b[0m transport \u001b[39m=\u001b[39m \u001b[39mawait\u001b[39;00m \u001b[39mself\u001b[39m\u001b[39m.\u001b[39m_make_subprocess_transport(\n\u001b[0;32m   1681\u001b[0m     protocol, popen_args, \u001b[39mFalse\u001b[39;00m, stdin, stdout, stderr,\n\u001b[0;32m   1682\u001b[0m     bufsize, \u001b[39m*\u001b[39m\u001b[39m*\u001b[39mkwargs)\n\u001b[0;32m   1683\u001b[0m \u001b[39mif\u001b[39;00m \u001b[39mself\u001b[39m\u001b[39m.\u001b[39m_debug \u001b[39mand\u001b[39;00m debug_log \u001b[39mis\u001b[39;00m \u001b[39mnot\u001b[39;00m \u001b[39mNone\u001b[39;00m:\n\u001b[0;32m   1684\u001b[0m     logger\u001b[39m.\u001b[39minfo(\u001b[39m'\u001b[39m\u001b[39m%s\u001b[39;00m\u001b[39m: \u001b[39m\u001b[39m%r\u001b[39;00m\u001b[39m'\u001b[39m, debug_log, transport)\n",
      "File \u001b[1;32mC:\\Python311\\Lib\\asyncio\\base_events.py:502\u001b[0m, in \u001b[0;36mBaseEventLoop._make_subprocess_transport\u001b[1;34m(self, protocol, args, shell, stdin, stdout, stderr, bufsize, extra, **kwargs)\u001b[0m\n\u001b[0;32m    498\u001b[0m \u001b[39masync\u001b[39;00m \u001b[39mdef\u001b[39;00m \u001b[39m_make_subprocess_transport\u001b[39m(\u001b[39mself\u001b[39m, protocol, args, shell,\n\u001b[0;32m    499\u001b[0m                                      stdin, stdout, stderr, bufsize,\n\u001b[0;32m    500\u001b[0m                                      extra\u001b[39m=\u001b[39m\u001b[39mNone\u001b[39;00m, \u001b[39m*\u001b[39m\u001b[39m*\u001b[39mkwargs):\n\u001b[0;32m    501\u001b[0m \u001b[39m    \u001b[39m\u001b[39m\"\"\"Create subprocess transport.\"\"\"\u001b[39;00m\n\u001b[1;32m--> 502\u001b[0m     \u001b[39mraise\u001b[39;00m \u001b[39mNotImplementedError\u001b[39;00m\n",
      "\u001b[1;31mNotImplementedError\u001b[0m: "
     ]
    }
   ],
   "source": [
    "# asyncio.run(analyze())\n",
    "# analyze()\n",
    "await analyze()\n"
   ]
  }
 ],
 "metadata": {
  "kernelspec": {
   "display_name": ".venv",
   "language": "python",
   "name": "python3"
  },
  "language_info": {
   "codemirror_mode": {
    "name": "ipython",
    "version": 3
   },
   "file_extension": ".py",
   "mimetype": "text/x-python",
   "name": "python",
   "nbconvert_exporter": "python",
   "pygments_lexer": "ipython3",
   "version": "3.11.0"
  }
 },
 "nbformat": 4,
 "nbformat_minor": 2
}
